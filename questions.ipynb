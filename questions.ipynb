{
 "cells": [
  {
   "cell_type": "code",
   "execution_count": 53,
   "metadata": {},
   "outputs": [],
   "source": [
    "import pandas as pd\n",
    "import numpy as np\n",
    "from datetime import datetime\n",
    "\n",
    "# Load data\n",
    "users_df = pd.read_csv('users.csv')\n",
    "repos_df = pd.read_csv('repositories.csv')\n"
   ]
  },
  {
   "cell_type": "code",
   "execution_count": 54,
   "metadata": {},
   "outputs": [
    {
     "name": "stdout",
     "output_type": "stream",
     "text": [
      "Top 5 users in Dublin with the highest number of followers\n",
      "0                    orta\n",
      "1           jeromeetienne\n",
      "2              jonataslaw\n",
      "3    steventroughtonsmith\n",
      "4                    axic\n",
      "Name: login, dtype: object\n"
     ]
    }
   ],
   "source": [
    "\n",
    "\n",
    "top_5_followers = users_df.nlargest(5, 'followers')['login']\n",
    "print(\"Top 5 users in Dublin with the highest number of followers\")\n",
    "print(top_5_followers)\n"
   ]
  },
  {
   "cell_type": "code",
   "execution_count": 55,
   "metadata": {},
   "outputs": [
    {
     "name": "stdout",
     "output_type": "stream",
     "text": [
      "5 earliest registered GitHub users in Dublin\n",
      "75         paulca\n",
      "443        adrian\n",
      "85     GavinJoyce\n",
      "74           amir\n",
      "437     ciaranlee\n",
      "Name: login, dtype: object\n"
     ]
    }
   ],
   "source": [
    "\n",
    "\n",
    "earliest_users = users_df.sort_values('created_at').head(5)['login']\n",
    "print(\"5 earliest registered GitHub users in Dublin\")\n",
    "print(earliest_users)\n",
    "\n"
   ]
  },
  {
   "cell_type": "code",
   "execution_count": 56,
   "metadata": {},
   "outputs": [
    {
     "name": "stdout",
     "output_type": "stream",
     "text": [
      "3 most popular licenses among these users\n",
      "['mit', 'apache-2.0', 'other']\n"
     ]
    }
   ],
   "source": [
    "\n",
    "top_3_licenses = repos_df['license_name'].dropna().value_counts().head(3).index.tolist()\n",
    "print(\"3 most popular licenses among these users\")\n",
    "print(top_3_licenses)\n",
    "\n"
   ]
  },
  {
   "cell_type": "code",
   "execution_count": 57,
   "metadata": {},
   "outputs": [
    {
     "name": "stdout",
     "output_type": "stream",
     "text": [
      "Company with the majority of developers\n",
      "MICROSOFT\n"
     ]
    }
   ],
   "source": [
    "\n",
    "most_common_company = users_df['company'].mode()[0]\n",
    "print(\"Company with the majority of developers\")\n",
    "print(most_common_company)\n",
    "\n"
   ]
  },
  {
   "cell_type": "code",
   "execution_count": 58,
   "metadata": {},
   "outputs": [
    {
     "name": "stdout",
     "output_type": "stream",
     "text": [
      "Most popular programming language\n",
      "JavaScript\n"
     ]
    }
   ],
   "source": [
    "\n",
    "most_popular_language = repos_df['language'].mode()[0]\n",
    "print(\"Most popular programming language\")\n",
    "print(most_popular_language)\n",
    "\n"
   ]
  },
  {
   "cell_type": "code",
   "execution_count": 59,
   "metadata": {},
   "outputs": [
    {
     "name": "stdout",
     "output_type": "stream",
     "text": [
      "Second most popular language among users who joined after 2020\n",
      "JavaScript\n"
     ]
    }
   ],
   "source": [
    "\n",
    "users_after_2020 = users_df[users_df['created_at'] > '2020-01-01']\n",
    "second_most_popular_language = repos_df[repos_df['login'].isin(users_after_2020['login'])]['language'].value_counts().index[1]\n",
    "print(\"Second most popular language among users who joined after 2020\")\n",
    "print(second_most_popular_language)\n",
    "\n"
   ]
  },
  {
   "cell_type": "code",
   "execution_count": 60,
   "metadata": {},
   "outputs": [
    {
     "name": "stdout",
     "output_type": "stream",
     "text": [
      "Language with the highest average stars per repository\n",
      "MDX\n"
     ]
    }
   ],
   "source": [
    "\n",
    "avg_stars_by_language = repos_df.groupby('language')['stargazers_count'].mean().idxmax()\n",
    "print(\"Language with the highest average stars per repository\")\n",
    "print(avg_stars_by_language)\n",
    "\n"
   ]
  },
  {
   "cell_type": "code",
   "execution_count": 61,
   "metadata": {},
   "outputs": [
    {
     "name": "stdout",
     "output_type": "stream",
     "text": [
      "Top 5 users by leader_strength\n",
      "6     flaviohenriquealmeida\n",
      "12                  zalando\n",
      "15               AnikSarker\n",
      "19                      wix\n",
      "28           CardinalHealth\n",
      "Name: login, dtype: object\n"
     ]
    }
   ],
   "source": [
    "\n",
    "users_df['leader_strength'] = users_df['followers'] / (1 + users_df['following'])\n",
    "top_5_leader_strength = users_df.nlargest(5, 'leader_strength')['login']\n",
    "print(\"Top 5 users by leader_strength\")\n",
    "print(top_5_leader_strength)\n",
    "\n"
   ]
  },
  {
   "cell_type": "code",
   "execution_count": 62,
   "metadata": {},
   "outputs": [
    {
     "name": "stdout",
     "output_type": "stream",
     "text": [
      "Correlation between followers and public repositories\n",
      "0.555\n"
     ]
    }
   ],
   "source": [
    "\n",
    "correlation_followers_repos = users_df['followers'].corr(users_df['public_repos'])\n",
    "print(\"Correlation between followers and public repositories\")\n",
    "print(f\"{correlation_followers_repos:.3f}\")\n",
    "\n"
   ]
  },
  {
   "cell_type": "code",
   "execution_count": 63,
   "metadata": {},
   "outputs": [
    {
     "name": "stdout",
     "output_type": "stream",
     "text": [
      "Regression slope of followers on repos\n",
      "2.828\n"
     ]
    }
   ],
   "source": [
    "\n",
    "from scipy.stats import linregress\n",
    "slope, intercept, r_value, p_value, std_err = linregress(users_df['public_repos'], users_df['followers'])\n",
    "print(\"Regression slope of followers on repos\")\n",
    "print(f\"{slope:.3f}\")\n",
    "\n"
   ]
  },
  {
   "cell_type": "code",
   "execution_count": 64,
   "metadata": {},
   "outputs": [
    {
     "name": "stdout",
     "output_type": "stream",
     "text": [
      "Correlation between having projects and wiki enabled\n",
      "0.318\n"
     ]
    }
   ],
   "source": [
    "\n",
    "projects_wiki_correlation = repos_df['has_projects'].astype(bool).corr(repos_df['has_wiki'].astype(bool))\n",
    "print(\"Correlation between having projects and wiki enabled\")\n",
    "print(f\"{projects_wiki_correlation:.3f}\")\n"
   ]
  },
  {
   "cell_type": "code",
   "execution_count": 65,
   "metadata": {},
   "outputs": [
    {
     "name": "stdout",
     "output_type": "stream",
     "text": [
      "Difference in following between hireable and non-hireable users\n",
      "nan\n"
     ]
    }
   ],
   "source": [
    "\n",
    "hireable_following_diff = users_df[users_df['hireable'] == True]['following'].mean() - users_df[users_df['hireable'] == False]['following'].mean()\n",
    "print(\"Difference in following between hireable and non-hireable users\")\n",
    "print(f\"{hireable_following_diff:.3f}\")\n",
    "\n"
   ]
  },
  {
   "cell_type": "code",
   "execution_count": 66,
   "metadata": {},
   "outputs": [
    {
     "name": "stdout",
     "output_type": "stream",
     "text": [
      "Correlation of bio length with followers\n",
      "7.183\n"
     ]
    },
    {
     "name": "stderr",
     "output_type": "stream",
     "text": [
      "/var/folders/m9/38bv81v97y70ln92dxzw898c0000gn/T/ipykernel_65331/2562487742.py:2: SettingWithCopyWarning: \n",
      "A value is trying to be set on a copy of a slice from a DataFrame.\n",
      "Try using .loc[row_indexer,col_indexer] = value instead\n",
      "\n",
      "See the caveats in the documentation: https://pandas.pydata.org/pandas-docs/stable/user_guide/indexing.html#returning-a-view-versus-a-copy\n",
      "  users_with_bio['bio_length'] = users_with_bio['bio'].apply(lambda x: len(x.split()))\n"
     ]
    }
   ],
   "source": [
    "\n",
    "users_with_bio = users_df.dropna(subset=['bio'])\n",
    "users_with_bio['bio_length'] = users_with_bio['bio'].apply(lambda x: len(x.split()))\n",
    "slope_bio_followers, _, _, _, _ = linregress(users_with_bio['bio_length'], users_with_bio['followers'])\n",
    "print(\"Correlation of bio length with followers\")\n",
    "print(f\"{slope_bio_followers:.3f}\")\n",
    "\n"
   ]
  },
  {
   "cell_type": "code",
   "execution_count": 67,
   "metadata": {},
   "outputs": [
    {
     "name": "stdout",
     "output_type": "stream",
     "text": [
      "User with most repositories created on weekends\n",
      "['orta', 'joshuacassidy', 'No9', 'wafuwafu13', 'lmammino']\n"
     ]
    }
   ],
   "source": [
    "\n",
    "repos_df['created_at'] = pd.to_datetime(repos_df['created_at'])\n",
    "repos_df['created_weekend'] = repos_df['created_at'].dt.dayofweek >= 5\n",
    "weekend_repo_counts = repos_df[repos_df['created_weekend']].groupby('login').size()\n",
    "top_5_weekend_creators = weekend_repo_counts.nlargest(5).index.tolist()\n",
    "print(\"User with most repositories created on weekends\")\n",
    "print(top_5_weekend_creators)\n",
    "\n"
   ]
  },
  {
   "cell_type": "code",
   "execution_count": 68,
   "metadata": {},
   "outputs": [
    {
     "name": "stdout",
     "output_type": "stream",
     "text": [
      "Difference in email-sharing fraction between hireable and non-hireable users\n",
      "nan\n"
     ]
    }
   ],
   "source": [
    "\n",
    "hireable_email_fraction = users_df[users_df['hireable'] == True]['email'].notnull().mean()\n",
    "non_hireable_email_fraction = users_df[users_df['hireable'] == False]['email'].notnull().mean()\n",
    "email_fraction_diff = hireable_email_fraction - non_hireable_email_fraction\n",
    "print(\"Difference in email-sharing fraction between hireable and non-hireable users\")\n",
    "print(f\"{email_fraction_diff:.3f}\")\n",
    "\n"
   ]
  },
  {
   "cell_type": "code",
   "execution_count": 69,
   "metadata": {},
   "outputs": [
    {
     "name": "stdout",
     "output_type": "stream",
     "text": [
      "Most common surname\n",
      "[\"O'Sullivan\"]\n"
     ]
    },
    {
     "name": "stderr",
     "output_type": "stream",
     "text": [
      "/var/folders/m9/38bv81v97y70ln92dxzw898c0000gn/T/ipykernel_65331/2785421860.py:2: SettingWithCopyWarning: \n",
      "A value is trying to be set on a copy of a slice from a DataFrame.\n",
      "Try using .loc[row_indexer,col_indexer] = value instead\n",
      "\n",
      "See the caveats in the documentation: https://pandas.pydata.org/pandas-docs/stable/user_guide/indexing.html#returning-a-view-versus-a-copy\n",
      "  users_with_names['surname'] = users_with_names['name'].apply(lambda x: x.strip().split()[-1])\n"
     ]
    }
   ],
   "source": [
    "\n",
    "users_with_names = users_df.dropna(subset=['name'])\n",
    "users_with_names['surname'] = users_with_names['name'].apply(lambda x: x.strip().split()[-1])\n",
    "most_common_surname = users_with_names['surname'].value_counts().nlargest(1).index.tolist()\n",
    "print(\"Most common surname\")\n",
    "print(sorted(most_common_surname))\n"
   ]
  }
 ],
 "metadata": {
  "kernelspec": {
   "display_name": "tds_env",
   "language": "python",
   "name": "python3"
  },
  "language_info": {
   "codemirror_mode": {
    "name": "ipython",
    "version": 3
   },
   "file_extension": ".py",
   "mimetype": "text/x-python",
   "name": "python",
   "nbconvert_exporter": "python",
   "pygments_lexer": "ipython3",
   "version": "3.11.2"
  },
  "orig_nbformat": 4,
  "vscode": {
   "interpreter": {
    "hash": "a75d81dab3de5c41fc15cd2b26118c8629c11ec68343b2389a4d4b9393746c80"
   }
  }
 },
 "nbformat": 4,
 "nbformat_minor": 2
}
